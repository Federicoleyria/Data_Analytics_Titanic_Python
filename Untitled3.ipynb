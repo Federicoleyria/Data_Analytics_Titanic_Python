{
  "nbformat": 4,
  "nbformat_minor": 0,
  "metadata": {
    "colab": {
      "provenance": [],
      "authorship_tag": "ABX9TyONLH043wY1xI4uCcPNdgs0",
      "include_colab_link": true
    },
    "kernelspec": {
      "name": "python3",
      "display_name": "Python 3"
    },
    "language_info": {
      "name": "python"
    }
  },
  "cells": [
    {
      "cell_type": "markdown",
      "metadata": {
        "id": "view-in-github",
        "colab_type": "text"
      },
      "source": [
        "<a href=\"https://colab.research.google.com/github/Federicoleyria/Data_Analytics_Titanic_Python/blob/main/Untitled3.ipynb\" target=\"_parent\"><img src=\"https://colab.research.google.com/assets/colab-badge.svg\" alt=\"Open In Colab\"/></a>"
      ]
    },
    {
      "cell_type": "code",
      "execution_count": 1,
      "metadata": {
        "id": "KV5FBRdMDZMP"
      },
      "outputs": [],
      "source": [
        "import pandas as pd\n",
        "import numpy as np"
      ]
    },
    {
      "cell_type": "code",
      "source": [
        "url = 'http://raw.githubusercontent.com/datasciencedojo/datasets/master/titanic.csv'\n",
        "df = pd.read_csv(url)"
      ],
      "metadata": {
        "id": "GS2eqml4EHOo"
      },
      "execution_count": 2,
      "outputs": []
    },
    {
      "cell_type": "code",
      "source": [
        "print(df.head())\n",
        "\n",
        "print(df.info())"
      ],
      "metadata": {
        "colab": {
          "base_uri": "https://localhost:8080/"
        },
        "id": "HUF28v-OEIoA",
        "outputId": "ecfac5fa-b820-46b2-d39b-88fd154f9d5e"
      },
      "execution_count": 4,
      "outputs": [
        {
          "output_type": "stream",
          "name": "stdout",
          "text": [
            "   PassengerId  Survived  Pclass  \\\n",
            "0            1         0       3   \n",
            "1            2         1       1   \n",
            "2            3         1       3   \n",
            "3            4         1       1   \n",
            "4            5         0       3   \n",
            "\n",
            "                                                Name     Sex   Age  SibSp  \\\n",
            "0                            Braund, Mr. Owen Harris    male  22.0      1   \n",
            "1  Cumings, Mrs. John Bradley (Florence Briggs Th...  female  38.0      1   \n",
            "2                             Heikkinen, Miss. Laina  female  26.0      0   \n",
            "3       Futrelle, Mrs. Jacques Heath (Lily May Peel)  female  35.0      1   \n",
            "4                           Allen, Mr. William Henry    male  35.0      0   \n",
            "\n",
            "   Parch            Ticket     Fare Cabin Embarked  \n",
            "0      0         A/5 21171   7.2500   NaN        S  \n",
            "1      0          PC 17599  71.2833   C85        C  \n",
            "2      0  STON/O2. 3101282   7.9250   NaN        S  \n",
            "3      0            113803  53.1000  C123        S  \n",
            "4      0            373450   8.0500   NaN        S  \n",
            "<class 'pandas.core.frame.DataFrame'>\n",
            "RangeIndex: 891 entries, 0 to 890\n",
            "Data columns (total 12 columns):\n",
            " #   Column       Non-Null Count  Dtype  \n",
            "---  ------       --------------  -----  \n",
            " 0   PassengerId  891 non-null    int64  \n",
            " 1   Survived     891 non-null    int64  \n",
            " 2   Pclass       891 non-null    int64  \n",
            " 3   Name         891 non-null    object \n",
            " 4   Sex          891 non-null    object \n",
            " 5   Age          714 non-null    float64\n",
            " 6   SibSp        891 non-null    int64  \n",
            " 7   Parch        891 non-null    int64  \n",
            " 8   Ticket       891 non-null    object \n",
            " 9   Fare         891 non-null    float64\n",
            " 10  Cabin        204 non-null    object \n",
            " 11  Embarked     889 non-null    object \n",
            "dtypes: float64(2), int64(5), object(5)\n",
            "memory usage: 83.7+ KB\n",
            "None\n"
          ]
        }
      ]
    },
    {
      "cell_type": "code",
      "source": [
        "  #Verificar si hay valores nulos\n",
        "print(df.isnull().sum())\n"
      ],
      "metadata": {
        "colab": {
          "base_uri": "https://localhost:8080/"
        },
        "id": "sE6CY3wwEbIB",
        "outputId": "0c1d6751-40e4-4a31-d9ad-c972406568d4"
      },
      "execution_count": 5,
      "outputs": [
        {
          "output_type": "stream",
          "name": "stdout",
          "text": [
            "PassengerId      0\n",
            "Survived         0\n",
            "Pclass           0\n",
            "Name             0\n",
            "Sex              0\n",
            "Age            177\n",
            "SibSp            0\n",
            "Parch            0\n",
            "Ticket           0\n",
            "Fare             0\n",
            "Cabin          687\n",
            "Embarked         2\n",
            "dtype: int64\n"
          ]
        }
      ]
    },
    {
      "cell_type": "code",
      "source": [
        "#Eliminar filas con valores nulos\n",
        "df = df.dropna().reset_index(drop=True)"
      ],
      "metadata": {
        "id": "OiCQoFlqFKeH"
      },
      "execution_count": 6,
      "outputs": []
    },
    {
      "cell_type": "code",
      "source": [
        "#Verificar si hay duplicados\n",
        "print(df.duplicated().sum())\n"
      ],
      "metadata": {
        "colab": {
          "base_uri": "https://localhost:8080/"
        },
        "id": "LaWHmTgLFX8H",
        "outputId": "18914ebe-a6b5-4031-ad0f-bd415a271e46"
      },
      "execution_count": 7,
      "outputs": [
        {
          "output_type": "stream",
          "name": "stdout",
          "text": [
            "0\n"
          ]
        }
      ]
    },
    {
      "cell_type": "code",
      "source": [
        "#Vericamos como nos queda en DataFrame con la limpieza de datos finalizada\n",
        "print(df)"
      ],
      "metadata": {
        "colab": {
          "base_uri": "https://localhost:8080/"
        },
        "id": "EB7vJcFZGHKU",
        "outputId": "83901aa2-3353-465a-da8d-d60390384c59"
      },
      "execution_count": 8,
      "outputs": [
        {
          "output_type": "stream",
          "name": "stdout",
          "text": [
            "     PassengerId  Survived  Pclass  \\\n",
            "0              2         1       1   \n",
            "1              4         1       1   \n",
            "2              7         0       1   \n",
            "3             11         1       3   \n",
            "4             12         1       1   \n",
            "..           ...       ...     ...   \n",
            "178          872         1       1   \n",
            "179          873         0       1   \n",
            "180          880         1       1   \n",
            "181          888         1       1   \n",
            "182          890         1       1   \n",
            "\n",
            "                                                  Name     Sex   Age  SibSp  \\\n",
            "0    Cumings, Mrs. John Bradley (Florence Briggs Th...  female  38.0      1   \n",
            "1         Futrelle, Mrs. Jacques Heath (Lily May Peel)  female  35.0      1   \n",
            "2                              McCarthy, Mr. Timothy J    male  54.0      0   \n",
            "3                      Sandstrom, Miss. Marguerite Rut  female   4.0      1   \n",
            "4                             Bonnell, Miss. Elizabeth  female  58.0      0   \n",
            "..                                                 ...     ...   ...    ...   \n",
            "178   Beckwith, Mrs. Richard Leonard (Sallie Monypeny)  female  47.0      1   \n",
            "179                           Carlsson, Mr. Frans Olof    male  33.0      0   \n",
            "180      Potter, Mrs. Thomas Jr (Lily Alexenia Wilson)  female  56.0      0   \n",
            "181                       Graham, Miss. Margaret Edith  female  19.0      0   \n",
            "182                              Behr, Mr. Karl Howell    male  26.0      0   \n",
            "\n",
            "     Parch    Ticket     Fare        Cabin Embarked  \n",
            "0        0  PC 17599  71.2833          C85        C  \n",
            "1        0    113803  53.1000         C123        S  \n",
            "2        0     17463  51.8625          E46        S  \n",
            "3        1   PP 9549  16.7000           G6        S  \n",
            "4        0    113783  26.5500         C103        S  \n",
            "..     ...       ...      ...          ...      ...  \n",
            "178      1     11751  52.5542          D35        S  \n",
            "179      0       695   5.0000  B51 B53 B55        S  \n",
            "180      1     11767  83.1583          C50        C  \n",
            "181      0    112053  30.0000          B42        S  \n",
            "182      0    111369  30.0000         C148        C  \n",
            "\n",
            "[183 rows x 12 columns]\n"
          ]
        }
      ]
    },
    {
      "cell_type": "code",
      "source": [
        "#Converison de tipos de datos\n",
        "df['Age'] = df['Age'].astype(int)\n",
        "#Creacion de columna\n",
        "df['Tamaño Familia'] = df['SibSp'] + df['Parch']\n",
        "#Ordenamiento de datos\n",
        "df = df.sort_values(by='Age').reset_index(drop=True)\n",
        "print(df)\n"
      ],
      "metadata": {
        "colab": {
          "base_uri": "https://localhost:8080/"
        },
        "id": "1IiYGDtTGl-m",
        "outputId": "5ef188cb-fbab-4bd6-afcd-1513b356a681"
      },
      "execution_count": 9,
      "outputs": [
        {
          "output_type": "stream",
          "name": "stdout",
          "text": [
            "     PassengerId  Survived  Pclass                                  Name  \\\n",
            "0            306         1       1        Allison, Master. Hudson Trevor   \n",
            "1            184         1       2             Becker, Master. Richard F   \n",
            "2            206         0       3            Strom, Miss. Telma Matilda   \n",
            "3            298         0       1          Allison, Miss. Helen Loraine   \n",
            "4            341         1       2        Navratil, Master. Edmond Roger   \n",
            "..           ...       ...     ...                                   ...   \n",
            "178           55         0       1        Ostby, Mr. Engelhart Cornelius   \n",
            "179          457         0       1             Millet, Mr. Francis Davis   \n",
            "180          746         0       1          Crosby, Capt. Edward Gifford   \n",
            "181           97         0       1             Goldschmidt, Mr. George B   \n",
            "182          631         1       1  Barkworth, Mr. Algernon Henry Wilson   \n",
            "\n",
            "        Sex  Age  SibSp  Parch     Ticket      Fare    Cabin Embarked  \\\n",
            "0      male    0      1      2     113781  151.5500  C22 C26        S   \n",
            "1      male    1      2      1     230136   39.0000       F4        S   \n",
            "2    female    2      0      1     347054   10.4625       G6        S   \n",
            "3    female    2      1      2     113781  151.5500  C22 C26        S   \n",
            "4      male    2      1      1     230080   26.0000       F2        S   \n",
            "..      ...  ...    ...    ...        ...       ...      ...      ...   \n",
            "178    male   65      0      1     113509   61.9792      B30        C   \n",
            "179    male   65      0      0      13509   26.5500      E38        S   \n",
            "180    male   70      1      1  WE/P 5735   71.0000      B22        S   \n",
            "181    male   71      0      0   PC 17754   34.6542       A5        C   \n",
            "182    male   80      0      0      27042   30.0000      A23        S   \n",
            "\n",
            "     Tamaño Familia  \n",
            "0                 3  \n",
            "1                 3  \n",
            "2                 1  \n",
            "3                 3  \n",
            "4                 2  \n",
            "..              ...  \n",
            "178               1  \n",
            "179               0  \n",
            "180               2  \n",
            "181               0  \n",
            "182               0  \n",
            "\n",
            "[183 rows x 13 columns]\n"
          ]
        }
      ]
    },
    {
      "cell_type": "markdown",
      "source": [
        "# **Resultado**"
      ],
      "metadata": {
        "id": "iHkLDdfUIniE"
      }
    },
    {
      "cell_type": "code",
      "source": [
        "#Aplicar estadisticas\n",
        "print(df['Age'].mean())\n",
        "print(df['Fare'].max())\n"
      ],
      "metadata": {
        "colab": {
          "base_uri": "https://localhost:8080/"
        },
        "id": "6WpWI38iI2Ot",
        "outputId": "a29dfa3b-617f-468f-e1ab-40ae6b766348"
      },
      "execution_count": 10,
      "outputs": [
        {
          "output_type": "stream",
          "name": "stdout",
          "text": [
            "35.66120218579235\n",
            "512.3292\n"
          ]
        }
      ]
    },
    {
      "cell_type": "code",
      "source": [
        "#Visualizacion de datos\n",
        "import matplotlib.pyplot as plt\n",
        "\n",
        "df['Age'].hist(bins=30)\n",
        "plt.xlabel('Age')\n",
        "plt.ylabel('Count')\n",
        "plt.show()\n"
      ],
      "metadata": {
        "colab": {
          "base_uri": "https://localhost:8080/",
          "height": 449
        },
        "id": "C46B8505JMwX",
        "outputId": "2675bb87-d5c5-453c-e4f4-403d6c386818"
      },
      "execution_count": 11,
      "outputs": [
        {
          "output_type": "display_data",
          "data": {
            "text/plain": [
              "<Figure size 640x480 with 1 Axes>"
            ],
            "image/png": "[encoded data removed]"
          },
          "metadata": {}
        }
      ]
    },
    {
      "cell_type": "code",
      "source": [
        "#Cracion de resumenes de datos\n",
        "summary = df.describe()\n",
        "\n",
        "#Exportación de los resultados\n",
        "summary.to_csv('sumary.csv')\n",
        "\n",
        "from google.colab import files\n",
        "files.download('sumary.csv')"
      ],
      "metadata": {
        "colab": {
          "base_uri": "https://localhost:8080/",
          "height": 17
        },
        "id": "WNbRNhkAJ8Bd",
        "outputId": "d915bad1-69d6-4c07-e0f9-072c4252a00a"
      },
      "execution_count": 13,
      "outputs": [
        {
          "output_type": "display_data",
          "data": {
            "text/plain": [
              "<IPython.core.display.Javascript object>"
            ],
            "application/javascript": [
              "\n",
              "    async function download(id, filename, size) {\n",
              "      if (!google.colab.kernel.accessAllowed) {\n",
              "        return;\n",
              "      }\n",
              "      const div = document.createElement('div');\n",
              "      const label = document.createElement('label');\n",
              "      label.textContent = `Downloading \"${filename}\": `;\n",
              "      div.appendChild(label);\n",
              "      const progress = document.createElement('progress');\n",
              "      progress.max = size;\n",
              "      div.appendChild(progress);\n",
              "      document.body.appendChild(div);\n",
              "\n",
              "      const buffers = [];\n",
              "      let downloaded = 0;\n",
              "\n",
              "      const channel = await google.colab.kernel.comms.open(id);\n",
              "      // Send a message to notify the kernel that we're ready.\n",
              "      channel.send({})\n",
              "\n",
              "      for await (const message of channel.messages) {\n",
              "        // Send a message to notify the kernel that we're ready.\n",
              "        channel.send({})\n",
              "        if (message.buffers) {\n",
              "          for (const buffer of message.buffers) {\n",
              "            buffers.push(buffer);\n",
              "            downloaded += buffer.byteLength;\n",
              "            progress.value = downloaded;\n",
              "          }\n",
              "        }\n",
              "      }\n",
              "      const blob = new Blob(buffers, {type: 'application/binary'});\n",
              "      const a = document.createElement('a');\n",
              "      a.href = window.URL.createObjectURL(blob);\n",
              "      a.download = filename;\n",
              "      div.appendChild(a);\n",
              "      a.click();\n",
              "      div.remove();\n",
              "    }\n",
              "  "
            ]
          },
          "metadata": {}
        },
        {
          "output_type": "display_data",
          "data": {
            "text/plain": [
              "<IPython.core.display.Javascript object>"
            ],
            "application/javascript": [
              "download(\"download_cf7b116d-c5e5-44d6-a879-ba8c1e2724ac\", \"sumary.csv\", 629)"
            ]
          },
          "metadata": {}
        }
      ]
    },
    {
      "cell_type": "code",
      "source": [
        "def categorize_age(age):\n",
        "  if age < 18:\n",
        "    return 'Niño'\n",
        "  elif age < 60:\n",
        "    return 'Adulto'\n",
        "  else:\n",
        "    return 'Anciano'\n",
        "\n",
        "\n",
        "df['Categoria Edad'] = df['Age'].apply(categorize_age)\n",
        "print(df)"
      ],
      "metadata": {
        "colab": {
          "base_uri": "https://localhost:8080/"
        },
        "id": "cKEGCsQwNleb",
        "outputId": "105774d6-7b0b-4118-aed6-1a672ab95662"
      },
      "execution_count": 14,
      "outputs": [
        {
          "output_type": "stream",
          "name": "stdout",
          "text": [
            "     PassengerId  Survived  Pclass                                  Name  \\\n",
            "0            306         1       1        Allison, Master. Hudson Trevor   \n",
            "1            184         1       2             Becker, Master. Richard F   \n",
            "2            206         0       3            Strom, Miss. Telma Matilda   \n",
            "3            298         0       1          Allison, Miss. Helen Loraine   \n",
            "4            341         1       2        Navratil, Master. Edmond Roger   \n",
            "..           ...       ...     ...                                   ...   \n",
            "178           55         0       1        Ostby, Mr. Engelhart Cornelius   \n",
            "179          457         0       1             Millet, Mr. Francis Davis   \n",
            "180          746         0       1          Crosby, Capt. Edward Gifford   \n",
            "181           97         0       1             Goldschmidt, Mr. George B   \n",
            "182          631         1       1  Barkworth, Mr. Algernon Henry Wilson   \n",
            "\n",
            "        Sex  Age  SibSp  Parch     Ticket      Fare    Cabin Embarked  \\\n",
            "0      male    0      1      2     113781  151.5500  C22 C26        S   \n",
            "1      male    1      2      1     230136   39.0000       F4        S   \n",
            "2    female    2      0      1     347054   10.4625       G6        S   \n",
            "3    female    2      1      2     113781  151.5500  C22 C26        S   \n",
            "4      male    2      1      1     230080   26.0000       F2        S   \n",
            "..      ...  ...    ...    ...        ...       ...      ...      ...   \n",
            "178    male   65      0      1     113509   61.9792      B30        C   \n",
            "179    male   65      0      0      13509   26.5500      E38        S   \n",
            "180    male   70      1      1  WE/P 5735   71.0000      B22        S   \n",
            "181    male   71      0      0   PC 17754   34.6542       A5        C   \n",
            "182    male   80      0      0      27042   30.0000      A23        S   \n",
            "\n",
            "     Tamaño Familia Categoria Edad  \n",
            "0                 3           Niño  \n",
            "1                 3           Niño  \n",
            "2                 1           Niño  \n",
            "3                 3           Niño  \n",
            "4                 2           Niño  \n",
            "..              ...            ...  \n",
            "178               1        Anciano  \n",
            "179               0        Anciano  \n",
            "180               2        Anciano  \n",
            "181               0        Anciano  \n",
            "182               0        Anciano  \n",
            "\n",
            "[183 rows x 14 columns]\n"
          ]
        }
      ]
    },
    {
      "cell_type": "code",
      "source": [
        "#Filtraremos las personas que sobrevivieron\n",
        "survived_df = df[df['Survived'] == 1].reset_index(drop=True)\n",
        "survived_df = survived_df.sort_index().reset_index(drop=True)\n",
        "print(survived_df)"
      ],
      "metadata": {
        "colab": {
          "base_uri": "https://localhost:8080/"
        },
        "id": "pgykO2KbOouz",
        "outputId": "5e129bf1-b028-4dd6-adda-84fd2cf26644"
      },
      "execution_count": 17,
      "outputs": [
        {
          "output_type": "stream",
          "name": "stdout",
          "text": [
            "     PassengerId  Survived  Pclass  \\\n",
            "0            306         1       1   \n",
            "1            184         1       2   \n",
            "2            341         1       2   \n",
            "3            194         1       2   \n",
            "4             11         1       3   \n",
            "..           ...       ...     ...   \n",
            "118          196         1       1   \n",
            "119          367         1       1   \n",
            "120          588         1       1   \n",
            "121          276         1       1   \n",
            "122          631         1       1   \n",
            "\n",
            "                                                 Name     Sex  Age  SibSp  \\\n",
            "0                      Allison, Master. Hudson Trevor    male    0      1   \n",
            "1                           Becker, Master. Richard F    male    1      2   \n",
            "2                      Navratil, Master. Edmond Roger    male    2      1   \n",
            "3                          Navratil, Master. Michel M    male    3      1   \n",
            "4                     Sandstrom, Miss. Marguerite Rut  female    4      1   \n",
            "..                                                ...     ...  ...    ...   \n",
            "118                              Lurette, Miss. Elise  female   58      0   \n",
            "119  Warren, Mrs. Frank Manley (Anna Sophia Atkinson)  female   60      1   \n",
            "120                  Frolicher-Stehli, Mr. Maxmillian    male   60      1   \n",
            "121                 Andrews, Miss. Kornelia Theodosia  female   63      1   \n",
            "122              Barkworth, Mr. Algernon Henry Wilson    male   80      0   \n",
            "\n",
            "     Parch    Ticket      Fare    Cabin Embarked  Tamaño Familia  \\\n",
            "0        2    113781  151.5500  C22 C26        S               3   \n",
            "1        1    230136   39.0000       F4        S               3   \n",
            "2        1    230080   26.0000       F2        S               2   \n",
            "3        1    230080   26.0000       F2        S               2   \n",
            "4        1   PP 9549   16.7000       G6        S               2   \n",
            "..     ...       ...       ...      ...      ...             ...   \n",
            "118      0  PC 17569  146.5208      B80        C               0   \n",
            "119      0    110813   75.2500      D37        C               1   \n",
            "120      1     13567   79.2000      B41        C               2   \n",
            "121      0     13502   77.9583       D7        S               1   \n",
            "122      0     27042   30.0000      A23        S               0   \n",
            "\n",
            "    Categoria Edad  \n",
            "0             Niño  \n",
            "1             Niño  \n",
            "2             Niño  \n",
            "3             Niño  \n",
            "4             Niño  \n",
            "..             ...  \n",
            "118         Adulto  \n",
            "119        Anciano  \n",
            "120        Anciano  \n",
            "121        Anciano  \n",
            "122        Anciano  \n",
            "\n",
            "[123 rows x 14 columns]\n"
          ]
        }
      ]
    },
    {
      "cell_type": "code",
      "source": [
        "#Vericar la media de edad por clase\n",
        "mean_age_by_class = df.groupby('Pclass')['Age'].mean()\n",
        "print(mean_age_by_class)"
      ],
      "metadata": {
        "colab": {
          "base_uri": "https://localhost:8080/"
        },
        "id": "ESot8Ve7QSh-",
        "outputId": "07ce6db1-a97b-4dda-8415-8882f949b8f4"
      },
      "execution_count": 18,
      "outputs": [
        {
          "output_type": "stream",
          "name": "stdout",
          "text": [
            "Pclass\n",
            "1    37.582278\n",
            "2    25.200000\n",
            "3    21.000000\n",
            "Name: Age, dtype: float64\n"
          ]
        }
      ]
    },
    {
      "cell_type": "code",
      "source": [
        "pivot_table = df.pivot_table(index='Sex', columns='Pclass', values='Fare', aggfunc='mean')\n",
        "print(pivot_table)"
      ],
      "metadata": {
        "colab": {
          "base_uri": "https://localhost:8080/"
        },
        "id": "_Cloa-M-Q3m4",
        "outputId": "6bde57f4-7662-41d2-dfb8-03e79ebcc4bf"
      },
      "execution_count": 20,
      "outputs": [
        {
          "output_type": "stream",
          "name": "stdout",
          "text": [
            "Pclass           1          2       3\n",
            "Sex                                  \n",
            "female  103.128209  14.865744  13.360\n",
            "male     75.957888  23.812500   8.695\n"
          ]
        }
      ]
    }
  ]
}